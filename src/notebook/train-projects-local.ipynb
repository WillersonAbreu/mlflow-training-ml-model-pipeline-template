{
  "cells": [
    {
      "cell_type": "markdown",
      "source": [
        "![Impressions](https://PixelServer20190423114238.azurewebsites.net/api/impressions/MachineLearningNotebooks/how-to-use-azureml/track-and-monitor-experiments/using-mlflow/train-projects-local/train-projects-local.png)"
      ],
      "metadata": {}
    },
    {
      "cell_type": "code",
      "execution_count": 1,
      "source": [
        "import sys, os\r\n",
        "import mlflow\r\n",
        "import mlflow.azureml\r\n",
        "\r\n",
        "import azureml.core\r\n",
        "from azureml.core import Workspace\r\n",
        "from mlflow.entities import ViewType\r\n",
        "\r\n",
        "ws = Workspace.from_config()\r\n",
        "\r\n",
        "print(\"SDK version:\", azureml.core.VERSION)\r\n",
        "print(\"MLflow version:\", mlflow.version.VERSION)\r\n",
        "print(ws.name, ws.resource_group, ws.location, ws.subscription_id, sep = '\\n')"
      ],
      "outputs": [
        {
          "output_type": "stream",
          "name": "stderr",
          "text": [
            "Failure while loading azureml_run_type_providers. Failed to load entrypoint azureml.scriptrun = azureml.core.script_run:ScriptRun._from_run_dto with exception (pywin32 301 (c:\\users\\jefferson.mesquita\\miniconda3\\envs\\mlflow\\lib\\site-packages), Requirement.parse('pywin32==227; sys_platform == \"win32\"'), {'docker'}).\n"
          ]
        },
        {
          "output_type": "stream",
          "name": "stdout",
          "text": [
            "SDK version: 1.34.0\n",
            "MLflow version: 1.20.2\n",
            "unidas-ml\n",
            "NovasTecnologias\n",
            "brazilsouth\n",
            "568ffbb5-1f18-46a5-bda8-72f67301d97c\n"
          ]
        }
      ],
      "metadata": {
        "tags": []
      }
    },
    {
      "cell_type": "code",
      "execution_count": 2,
      "source": [
        "mlflow.set_tracking_uri(ws.get_mlflow_tracking_uri())"
      ],
      "outputs": [],
      "metadata": {
        "tags": []
      }
    },
    {
      "cell_type": "code",
      "execution_count": 3,
      "source": [
        "experiment_name = \"wine-quality-local\"\r\n",
        "mlflow.set_experiment(experiment_name)"
      ],
      "outputs": [],
      "metadata": {
        "tags": []
      }
    },
    {
      "cell_type": "code",
      "execution_count": 4,
      "source": [
        "backend_config = {\"USE_CONDA\": False}"
      ],
      "outputs": [],
      "metadata": {}
    },
    {
      "cell_type": "code",
      "execution_count": 5,
      "source": [
        "local_env_run = mlflow.projects.run(uri=\"../../.\", \r\n",
        "                                    parameters={\"alpha\":0.3},\r\n",
        "                                    backend = \"azureml\",\r\n",
        "                                    use_conda=False,\r\n",
        "                                    backend_config = backend_config)\r\n"
      ],
      "outputs": [
        {
          "output_type": "stream",
          "name": "stderr",
          "text": [
            "Class AzureMLProjectBackend: This is an experimental class, and may change at any time. Please see https://aka.ms/azuremlexperimental for more information.\n",
            "2021/10/13 12:03:21 INFO mlflow.projects.utils: === Created directory C:\\Users\\JEFFER~1.MES\\AppData\\Local\\Temp\\tmpw9f9v01p for downloading remote URIs passed to arguments of type 'path' ===\n"
          ]
        },
        {
          "output_type": "stream",
          "name": "stdout",
          "text": [
            "Exporting conda specifications for existing conda environment: mlflow\n",
            "13/10/2021 12:03:21 INFO azureml.mlflow: === Using local conda environment mlflow for local run ===\n"
          ]
        },
        {
          "output_type": "stream",
          "name": "stderr",
          "text": [
            "Class AzureMLSubmittedRun: This is an experimental class, and may change at any time. Please see https://aka.ms/azuremlexperimental for more information.\n"
          ]
        },
        {
          "output_type": "stream",
          "name": "stdout",
          "text": [
            "RunId: wine-quality-local_1634137405_38916ffa\n",
            "Web View: https://ml.azure.com/runs/wine-quality-local_1634137405_38916ffa?wsid=/subscriptions/568ffbb5-1f18-46a5-bda8-72f67301d97c/resourcegroups/NovasTecnologias/workspaces/unidas-ml&tid=fe9c3469-f798-42b9-9c93-4dddf0f6cf20\n",
            "\n",
            "Streaming azureml-logs/70_driver_log.txt\n",
            "========================================\n",
            "\n",
            "[2021-10-13T15:03:30.689961] Entering context manager injector.\n",
            "[2021-10-13T15:03:31.829555] context_manager_injector.py Command line Options: Namespace(inject=['ProjectPythonPath:context_managers.ProjectPythonPath', 'RunHistory:context_managers.RunHistory', 'TrackUserError:context_managers.TrackUserError'], invocation=['python src/scripts/train.py --alpha 0.3 --l1_ratio 0.1'])\n",
            "Script type = COMMAND\n",
            "[2021-10-13T15:03:31.835555] Command=python src/scripts/train.py --alpha 0.3 --l1_ratio 0.1\n",
            "[2021-10-13T15:03:31.835555] Entering Run History Context Manager.\n",
            "[2021-10-13T15:03:34.497835] Command Working Directory=C:\\Users\\JEFFER~1.MES\\AppData\\Local\\Temp\\azureml_runs\\wine-quality-local_1634137405_38916ffa\n",
            "[2021-10-13T15:03:34.497835] Starting Windows command : python src/scripts/train.py --alpha 0.3 --l1_ratio 0.1\n",
            "Failure while loading azureml_run_type_providers. Failed to load entrypoint azureml.scriptrun = azureml.core.script_run:ScriptRun._from_run_dto with exception (pywin32 301 (c:\\users\\jefferson.mesquita\\miniconda3\\envs\\mlflow\\lib\\site-packages), Requirement.parse('pywin32==227; sys_platform == \"win32\"'), {'docker'}).\n",
            "  alpha: 0.3\n",
            "  l1_ratio: 0.3\n",
            "Elasticnet model (alpha=0.300000, l1_ratio=0.100000):\n",
            "  RMSE: 0.8138778747812752\n",
            "  MAE: 0.6279233789747984\n",
            "  R2: 0.18290312250032548\n",
            "[2021-10-13T15:03:46.255186] Command finished with return code 0\n",
            "\n",
            "\n",
            "[2021-10-13T15:03:46.256188] The experiment completed successfully. Finalizing run...\n",
            "[2021-10-13T15:03:46.261186] Start FinalizingInRunHistory\n",
            "[2021-10-13T15:03:46.261186] Logging experiment finalizing status in history service.\n",
            "Starting the daemon thread to refresh tokens in background for process with pid = 16892\n",
            "Cleaning up all outstanding Run operations, waiting 300.0 seconds\n",
            "1 items cleaning up...\n",
            "Cleanup took 0.0780024528503418 seconds\n",
            "[2021-10-13T15:03:46.940845] Finished context manager injector.\n",
            "\n",
            "Execution Summary\n",
            "=================\n",
            "RunId: wine-quality-local_1634137405_38916ffa\n",
            "Web View: https://ml.azure.com/runs/wine-quality-local_1634137405_38916ffa?wsid=/subscriptions/568ffbb5-1f18-46a5-bda8-72f67301d97c/resourcegroups/NovasTecnologias/workspaces/unidas-ml&tid=fe9c3469-f798-42b9-9c93-4dddf0f6cf20\n",
            "\n"
          ]
        },
        {
          "output_type": "stream",
          "name": "stderr",
          "text": [
            "2021/10/13 12:03:50 INFO mlflow.projects: === Run (ID 'wine-quality-local_1634137405_38916ffa') succeeded ===\n"
          ]
        }
      ],
      "metadata": {
        "tags": []
      }
    },
    {
      "cell_type": "code",
      "execution_count": 6,
      "source": [
        "local_env_run"
      ],
      "outputs": [
        {
          "output_type": "execute_result",
          "data": {
            "text/html": [
              "<table style=\"width:100%\"><tr><th>Experiment</th><th>Id</th><th>Type</th><th>Status</th><th>Details Page</th><th>Docs Page</th></tr><tr><td>wine-quality-local</td><td>wine-quality-local_1634137405_38916ffa</td><td>azureml.scriptrun</td><td>Completed</td><td><a href=\"https://ml.azure.com/runs/wine-quality-local_1634137405_38916ffa?wsid=/subscriptions/568ffbb5-1f18-46a5-bda8-72f67301d97c/resourcegroups/NovasTecnologias/workspaces/unidas-ml&amp;tid=fe9c3469-f798-42b9-9c93-4dddf0f6cf20\" target=\"_blank\" rel=\"noopener\">Link to Azure Machine Learning studio</a></td><td><a href=\"https://docs.microsoft.com/en-us/python/api/azureml-core/azureml.core.script_run.ScriptRun?view=azure-ml-py\" target=\"_blank\" rel=\"noopener\">Link to Documentation</a></td></tr></table>"
            ],
            "text/plain": [
              "<azureml.mlflow._internal.submitted_run.AzureMLSubmittedRun at 0x1ba0367c5f8>"
            ]
          },
          "metadata": {},
          "execution_count": 6
        }
      ],
      "metadata": {}
    },
    {
      "cell_type": "code",
      "execution_count": 7,
      "source": [
        "run = mlflow.search_runs(\r\n",
        "        filter_string=\"params.model ='Elasticnet'\",\r\n",
        "        max_results=1,\r\n",
        "        order_by=['metrics.rmse ASC'],\r\n",
        "        output_format=\"pandas\")\r\n",
        "run"
      ],
      "outputs": [
        {
          "output_type": "execute_result",
          "data": {
            "text/html": [
              "<div>\n",
              "<style scoped>\n",
              "    .dataframe tbody tr th:only-of-type {\n",
              "        vertical-align: middle;\n",
              "    }\n",
              "\n",
              "    .dataframe tbody tr th {\n",
              "        vertical-align: top;\n",
              "    }\n",
              "\n",
              "    .dataframe thead th {\n",
              "        text-align: right;\n",
              "    }\n",
              "</style>\n",
              "<table border=\"1\" class=\"dataframe\">\n",
              "  <thead>\n",
              "    <tr style=\"text-align: right;\">\n",
              "      <th></th>\n",
              "      <th>run_id</th>\n",
              "      <th>experiment_id</th>\n",
              "      <th>status</th>\n",
              "      <th>artifact_uri</th>\n",
              "      <th>start_time</th>\n",
              "      <th>end_time</th>\n",
              "      <th>metrics.r2</th>\n",
              "      <th>metrics.rmse</th>\n",
              "      <th>metrics.mae</th>\n",
              "      <th>params.model</th>\n",
              "      <th>params.l1_ratio</th>\n",
              "      <th>params.alpha</th>\n",
              "      <th>tags.mlflow.rootRunId</th>\n",
              "      <th>tags.mlflow.project.backend</th>\n",
              "      <th>tags.mlflow.source.name</th>\n",
              "      <th>tags.mlflow.source.type</th>\n",
              "    </tr>\n",
              "  </thead>\n",
              "  <tbody>\n",
              "    <tr>\n",
              "      <th>0</th>\n",
              "      <td>wine-quality-local_1634135185_1c569045</td>\n",
              "      <td>a3210724-3391-49c6-b9f0-29230fd07397</td>\n",
              "      <td>FINISHED</td>\n",
              "      <td></td>\n",
              "      <td>2021-10-13 14:26:28.458000+00:00</td>\n",
              "      <td>2021-10-13 14:26:47.722000+00:00</td>\n",
              "      <td>0.199941</td>\n",
              "      <td>0.787048</td>\n",
              "      <td>0.615799</td>\n",
              "      <td>Elasticnet</td>\n",
              "      <td>0.1</td>\n",
              "      <td>0.3</td>\n",
              "      <td>wine-quality-local_1634135185_1c569045</td>\n",
              "      <td>azureml</td>\n",
              "      <td></td>\n",
              "      <td>JOB</td>\n",
              "    </tr>\n",
              "  </tbody>\n",
              "</table>\n",
              "</div>"
            ],
            "text/plain": [
              "                                   run_id  \\\n",
              "0  wine-quality-local_1634135185_1c569045   \n",
              "\n",
              "                          experiment_id    status artifact_uri  \\\n",
              "0  a3210724-3391-49c6-b9f0-29230fd07397  FINISHED                \n",
              "\n",
              "                        start_time                         end_time  \\\n",
              "0 2021-10-13 14:26:28.458000+00:00 2021-10-13 14:26:47.722000+00:00   \n",
              "\n",
              "   metrics.r2  metrics.rmse  metrics.mae params.model params.l1_ratio  \\\n",
              "0    0.199941      0.787048     0.615799   Elasticnet             0.1   \n",
              "\n",
              "  params.alpha                   tags.mlflow.rootRunId  \\\n",
              "0          0.3  wine-quality-local_1634135185_1c569045   \n",
              "\n",
              "  tags.mlflow.project.backend tags.mlflow.source.name tags.mlflow.source.type  \n",
              "0                     azureml                                             JOB  "
            ]
          },
          "metadata": {},
          "execution_count": 7
        }
      ],
      "metadata": {}
    },
    {
      "cell_type": "code",
      "execution_count": 20,
      "source": [
        "run = mlflow.get_run(local_env_run.run_id)"
      ],
      "outputs": [],
      "metadata": {}
    },
    {
      "cell_type": "code",
      "execution_count": 25,
      "source": [
        "run.data.metrics"
      ],
      "outputs": [
        {
          "output_type": "execute_result",
          "data": {
            "text/plain": [
              "{'rmse': 0.787047763084381,\n",
              " 'r2': 0.1999409352987359,\n",
              " 'mae': 0.6157985955024701}"
            ]
          },
          "metadata": {},
          "execution_count": 25
        }
      ],
      "metadata": {}
    }
  ],
  "metadata": {
    "authors": [
      {
        "name": "shipatel"
      }
    ],
    "category": "tutorial",
    "celltoolbar": "Edit Metadata",
    "compute": [
      "Local"
    ],
    "exclude_from_index": false,
    "framework": [
      "ScikitLearn"
    ],
    "friendly_name": "Use MLflow projects with Azure Machine Learning to train a model with local compute",
    "kernelspec": {
      "name": "python3",
      "display_name": "Python 3.6.13 64-bit ('mlflow': conda)"
    },
    "language_info": {
      "name": "python",
      "version": "3.6.13",
      "mimetype": "text/x-python",
      "codemirror_mode": {
        "name": "ipython",
        "version": 3
      },
      "pygments_lexer": "ipython3",
      "nbconvert_exporter": "python",
      "file_extension": ".py"
    },
    "tags": [
      "mlflow",
      "scikit"
    ],
    "task": "Use MLflow projects with Azure Machine Learning to train a model using local compute",
    "interpreter": {
      "hash": "f641e020f875c753d629251ae12ff9f00f652609073cfaf976bb5412e1fc8e2e"
    }
  },
  "nbformat": 4,
  "nbformat_minor": 2
}